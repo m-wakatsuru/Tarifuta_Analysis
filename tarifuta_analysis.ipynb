{
 "cells": [
  {
   "cell_type": "code",
   "execution_count": 1,
   "metadata": {},
   "outputs": [],
   "source": [
    "import tweepy\n",
    "import numpy as np\n",
    "import pandas as pd\n",
    "import re\n",
    "import datetime\n",
    "import matplotlib as mpl\n",
    "import matplotlib.pyplot as plt\n",
    "import seaborn as sb\n",
    "mpl.rcParams['font.family'] = \"IPAexGothic\""
   ]
  },
  {
   "cell_type": "markdown",
   "metadata": {},
   "source": [
    "## Gathering data"
   ]
  },
  {
   "cell_type": "markdown",
   "metadata": {},
   "source": [
    "### Gethering from twitter"
   ]
  },
  {
   "cell_type": "code",
   "execution_count": 2,
   "metadata": {},
   "outputs": [],
   "source": [
    "# Getting customer key and access token\n",
    "consumer_key = ''\n",
    "consumer_secret = ''\n",
    "access_token = ''\n",
    "access_secret = ''"
   ]
  },
  {
   "cell_type": "code",
   "execution_count": 3,
   "metadata": {},
   "outputs": [],
   "source": [
    "# Getting api value\n",
    "auth = tweepy.OAuthHandler(consumer_key, consumer_secret)\n",
    "auth.set_access_token(access_token, access_secret)\n",
    "api = tweepy.API(auth)"
   ]
  },
  {
   "cell_type": "code",
   "execution_count": 4,
   "metadata": {},
   "outputs": [],
   "source": [
    "# Creating column list and searched tweet id\n",
    "columns_name=[\"TW_NO\",\"TW_TIME\",\"TW_TEXT\",\"FAV\",\"RT\"]\n",
    "tw_id ='tarinaifutari'"
   ]
  },
  {
   "cell_type": "code",
   "execution_count": 5,
   "metadata": {},
   "outputs": [],
   "source": [
    "# Creating DataFrame\n",
    "tweet_data = []\n",
    "for tweet in tweepy.Cursor(api.user_timeline,screen_name = tw_id,exclude_replies = True).items():\n",
    "    tweet_data.append([tweet.id,tweet.created_at+datetime.timedelta(hours=9),tweet.text.replace('\\n',''),tweet.favorite_count,tweet.retweet_count])\n",
    "df = pd.DataFrame(tweet_data,columns=columns_name)"
   ]
  },
  {
   "cell_type": "code",
   "execution_count": 6,
   "metadata": {},
   "outputs": [],
   "source": [
    "# Setting 80 characters in a column\n",
    "pd.set_option(\"display.max_colwidth\", 280)"
   ]
  },
  {
   "cell_type": "code",
   "execution_count": 7,
   "metadata": {},
   "outputs": [
    {
     "data": {
      "text/html": [
       "<div>\n",
       "<style scoped>\n",
       "    .dataframe tbody tr th:only-of-type {\n",
       "        vertical-align: middle;\n",
       "    }\n",
       "\n",
       "    .dataframe tbody tr th {\n",
       "        vertical-align: top;\n",
       "    }\n",
       "\n",
       "    .dataframe thead th {\n",
       "        text-align: right;\n",
       "    }\n",
       "</style>\n",
       "<table border=\"1\" class=\"dataframe\">\n",
       "  <thead>\n",
       "    <tr style=\"text-align: right;\">\n",
       "      <th></th>\n",
       "      <th>TW_NO</th>\n",
       "      <th>TW_TIME</th>\n",
       "      <th>TW_TEXT</th>\n",
       "      <th>FAV</th>\n",
       "      <th>RT</th>\n",
       "    </tr>\n",
       "  </thead>\n",
       "  <tbody>\n",
       "    <tr>\n",
       "      <th>0</th>\n",
       "      <td>1191011635109888000</td>\n",
       "      <td>2019-11-04 00:17:56</td>\n",
       "      <td>さよなら？いや、こんにちは。 https://t.co/kb0drHfsr9</td>\n",
       "      <td>6322</td>\n",
       "      <td>655</td>\n",
       "    </tr>\n",
       "    <tr>\n",
       "      <th>1</th>\n",
       "      <td>1190907650810118146</td>\n",
       "      <td>2019-11-03 17:24:44</td>\n",
       "      <td>ついていくしかないんでしょ？行くよ…文責山里</td>\n",
       "      <td>1801</td>\n",
       "      <td>158</td>\n",
       "    </tr>\n",
       "    <tr>\n",
       "      <th>2</th>\n",
       "      <td>1190903280357933056</td>\n",
       "      <td>2019-11-03 17:07:22</td>\n",
       "      <td>ノートの向こう側に連れて行ってあげるからね。楽しみにしててね。文責若林</td>\n",
       "      <td>2578</td>\n",
       "      <td>283</td>\n",
       "    </tr>\n",
       "    <tr>\n",
       "      <th>3</th>\n",
       "      <td>1190879051138781184</td>\n",
       "      <td>2019-11-03 15:31:05</td>\n",
       "      <td>ご指示の通りノート見てたから…文責山里</td>\n",
       "      <td>1192</td>\n",
       "      <td>84</td>\n",
       "    </tr>\n",
       "    <tr>\n",
       "      <th>4</th>\n",
       "      <td>1190872025595699201</td>\n",
       "      <td>2019-11-03 15:03:10</td>\n",
       "      <td>おい、この返しを見るに今日調子良さそうだな。文責若林</td>\n",
       "      <td>1760</td>\n",
       "      <td>120</td>\n",
       "    </tr>\n",
       "  </tbody>\n",
       "</table>\n",
       "</div>"
      ],
      "text/plain": [
       "                 TW_NO             TW_TIME  \\\n",
       "0  1191011635109888000 2019-11-04 00:17:56   \n",
       "1  1190907650810118146 2019-11-03 17:24:44   \n",
       "2  1190903280357933056 2019-11-03 17:07:22   \n",
       "3  1190879051138781184 2019-11-03 15:31:05   \n",
       "4  1190872025595699201 2019-11-03 15:03:10   \n",
       "\n",
       "                                  TW_TEXT   FAV   RT  \n",
       "0  さよなら？いや、こんにちは。 https://t.co/kb0drHfsr9  6322  655  \n",
       "1                  ついていくしかないんでしょ？行くよ…文責山里  1801  158  \n",
       "2     ノートの向こう側に連れて行ってあげるからね。楽しみにしててね。文責若林  2578  283  \n",
       "3                     ご指示の通りノート見てたから…文責山里  1192   84  \n",
       "4              おい、この返しを見るに今日調子良さそうだな。文責若林  1760  120  "
      ]
     },
     "execution_count": 7,
     "metadata": {},
     "output_type": "execute_result"
    }
   ],
   "source": [
    "df.head()"
   ]
  },
  {
   "cell_type": "markdown",
   "metadata": {},
   "source": [
    "### Checking the data"
   ]
  },
  {
   "cell_type": "code",
   "execution_count": 8,
   "metadata": {},
   "outputs": [
    {
     "name": "stderr",
     "output_type": "stream",
     "text": [
      "/Users/Waka/anaconda3/lib/python3.7/site-packages/pandas/plotting/_converter.py:129: FutureWarning: Using an implicitly registered datetime converter for a matplotlib plotting method. The converter was registered by pandas on import. Future versions of pandas will require you to explicitly register matplotlib converters.\n",
      "\n",
      "To register the converters:\n",
      "\t>>> from pandas.plotting import register_matplotlib_converters\n",
      "\t>>> register_matplotlib_converters()\n",
      "  warnings.warn(msg, FutureWarning)\n"
     ]
    },
    {
     "data": {
      "image/png": "[encoded data removed]",
      "text/plain": [
       "<Figure size 432x288 with 1 Axes>"
      ]
     },
     "metadata": {
      "needs_background": "light"
     },
     "output_type": "display_data"
    },
    {
     "data": {
      "image/png": "[encoded data removed]",
      "text/plain": [
       "<Figure size 432x288 with 1 Axes>"
      ]
     },
     "metadata": {
      "needs_background": "light"
     },
     "output_type": "display_data"
    },
    {
     "data": {
      "image/png": "[encoded data removed]",
      "text/plain": [
       "<Figure size 432x288 with 1 Axes>"
      ]
     },
     "metadata": {
      "needs_background": "light"
     },
     "output_type": "display_data"
    }
   ],
   "source": [
    "# Check the tweet year\n",
    "for column in [\"TW_TIME\", \"RT\", \"FAV\"]:\n",
    "    df[column].hist()\n",
    "    plt.ylabel('count')\n",
    "    plt.xlabel(column)\n",
    "    plt.show();"
   ]
  },
  {
   "cell_type": "markdown",
   "metadata": {},
   "source": [
    "## Wrangling data"
   ]
  },
  {
   "cell_type": "markdown",
   "metadata": {},
   "source": [
    "### Deleting the space"
   ]
  },
  {
   "cell_type": "code",
   "execution_count": 9,
   "metadata": {},
   "outputs": [],
   "source": [
    "# Delete the space in twitter text\n",
    "df['TW_TEXT'] = df['TW_TEXT'].apply(lambda x: re.sub('([あ-んア-ン一-龥ー])\\s+((?=[あ-んア-ン一-龥ー]))',r'\\1\\2', x))"
   ]
  },
  {
   "cell_type": "markdown",
   "metadata": {},
   "source": [
    "### Creating new column \"person\""
   ]
  },
  {
   "cell_type": "code",
   "execution_count": 10,
   "metadata": {},
   "outputs": [],
   "source": [
    "# Create person column to clarify who tweeted.\n",
    "# Firstly, I filtered the word \"文責山里\" and \"文責若林\" following their rule\n",
    "df['PERSON'] ='不明'\n",
    "\n",
    "for i in range(df.shape[0]):\n",
    "    if '文責若林' in df.loc[i,'TW_TEXT']:\n",
    "        df.loc[i, 'PERSON']='若林'\n",
    "    elif '文責山里' in df.loc[i,'TW_TEXT'] :\n",
    "        df.loc[i, 'PERSON']='山里'"
   ]
  },
  {
   "cell_type": "code",
   "execution_count": 11,
   "metadata": {},
   "outputs": [],
   "source": [
    "# Modifying the filter\n",
    "# ['文責山里若林', '文責山里・若林'] → 双方\n",
    "for b_word in ['文責山里若林', '文責山里・若林']:\n",
    "    for i in range(df.shape[0]):\n",
    "        if b_word in df.loc[i,'TW_TEXT']:\n",
    "            df.loc[i,'PERSON']='双方'"
   ]
  },
  {
   "cell_type": "code",
   "execution_count": 12,
   "metadata": {},
   "outputs": [
    {
     "data": {
      "text/plain": [
       "4"
      ]
     },
     "execution_count": 12,
     "metadata": {},
     "output_type": "execute_result"
    }
   ],
   "source": [
    "# Checking if the above change is working or not\n",
    "df[df['PERSON']=='双方']['TW_TEXT'].count()"
   ]
  },
  {
   "cell_type": "code",
   "execution_count": 13,
   "metadata": {},
   "outputs": [
    {
     "data": {
      "text/plain": [
       "538"
      ]
     },
     "execution_count": 13,
     "metadata": {},
     "output_type": "execute_result"
    }
   ],
   "source": [
    "# Checking the tweet not following the rule\n",
    "df[df['PERSON']=='不明']['TW_TEXT'].count()"
   ]
  },
  {
   "cell_type": "code",
   "execution_count": 14,
   "metadata": {},
   "outputs": [
    {
     "data": {
      "text/plain": [
       "0                                                                                                            さよなら？いや、こんにちは。 https://t.co/kb0drHfsr9\n",
       "35         RT @thetvjp: 「たりないふたり」5年ぶり復活で“さよなら”のワケ企画演出・安島隆氏が語る山里亮太×若林正恭の10年 #たりないふたり #たりふた #ライブ #山里亮太 #若林正恭 #安島隆 @tarinaifutari @takashiajimahttps:…\n",
       "77     たりないふたりファンの方に現状報告です。2人で会える日がなく山ちゃんはスッキリの見守り終わり、ぼくは日テレのレギュラー番組の前に安島さんが楽屋にやって来て「ハロウィンなんかは今どう思う？」と聞かれてはそれを伝言しに行くというスタイ… https://t.co/rPpQ3HRBVm\n",
       "160                                                                                                                  チュウ、チュウ、次がラストの収録。色々と企みチュウ。文責悪鼠\n",
       "162                                                                                                                              チュウ、チュウ、ロケチュウ。文責悪鼠\n",
       "Name: TW_TEXT, dtype: object"
      ]
     },
     "execution_count": 14,
     "metadata": {},
     "output_type": "execute_result"
    }
   ],
   "source": [
    "# Checking the tweet not following the rule\n",
    "df[df['PERSON']=='不明']['TW_TEXT'].head()"
   ]
  },
  {
   "cell_type": "code",
   "execution_count": 15,
   "metadata": {},
   "outputs": [],
   "source": [
    "# Checking the other word which we can filter the person by.\n",
    "# ['文責悪鼠', '歌責若林', 'MASA', '文責・若林', '文責若']　→ 若林\n",
    "# ['山里亮太'] → 山里\n",
    "\n",
    "for w_word in ['文責悪鼠', '歌責若林', 'MASA', '文責・若林', '文責若']:\n",
    "    for i in range(df.shape[0]):\n",
    "        if df.loc[i,'PERSON']=='不明':\n",
    "            if w_word in df.loc[i,'TW_TEXT']:\n",
    "                df.loc[i,'PERSON']='若林'\n",
    "\n",
    "for i in range(df.shape[0]):\n",
    "    if df.loc[i,'PERSON']=='不明':\n",
    "        if '山里亮太' in df.loc[i,'TW_TEXT']:\n",
    "            df.loc[i,'PERSON']='山里'"
   ]
  },
  {
   "cell_type": "code",
   "execution_count": 16,
   "metadata": {},
   "outputs": [
    {
     "data": {
      "text/plain": [
       "512"
      ]
     },
     "execution_count": 16,
     "metadata": {},
     "output_type": "execute_result"
    }
   ],
   "source": [
    "# Checking the tweet not following the rule\n",
    "df[df['PERSON']=='不明']['TW_TEXT'].count()"
   ]
  },
  {
   "cell_type": "markdown",
   "metadata": {},
   "source": [
    "### Creating new column \"term\""
   ]
  },
  {
   "cell_type": "code",
   "execution_count": 17,
   "metadata": {},
   "outputs": [
    {
     "data": {
      "text/plain": [
       "2012    1004\n",
       "2014     419\n",
       "2011     255\n",
       "2019     124\n",
       "Name: TW_TIME, dtype: int64"
      ]
     },
     "execution_count": 17,
     "metadata": {},
     "output_type": "execute_result"
    }
   ],
   "source": [
    "df[\"TW_TIME\"].dt.year.value_counts()"
   ]
  },
  {
   "cell_type": "code",
   "execution_count": 18,
   "metadata": {},
   "outputs": [],
   "source": [
    "df.loc[(df[\"TW_TIME\"].dt.year == 2011)|(df[\"TW_TIME\"].dt.year == 2012), 'term']='term1'\n",
    "df.loc[df[\"TW_TIME\"].dt.year == 2014, 'term']='term2'\n",
    "df.loc[df[\"TW_TIME\"].dt.year == 2019, 'term']='term3'"
   ]
  },
  {
   "cell_type": "code",
   "execution_count": 19,
   "metadata": {},
   "outputs": [
    {
     "data": {
      "text/html": [
       "<div>\n",
       "<style scoped>\n",
       "    .dataframe tbody tr th:only-of-type {\n",
       "        vertical-align: middle;\n",
       "    }\n",
       "\n",
       "    .dataframe tbody tr th {\n",
       "        vertical-align: top;\n",
       "    }\n",
       "\n",
       "    .dataframe thead th {\n",
       "        text-align: right;\n",
       "    }\n",
       "</style>\n",
       "<table border=\"1\" class=\"dataframe\">\n",
       "  <thead>\n",
       "    <tr style=\"text-align: right;\">\n",
       "      <th></th>\n",
       "      <th>TW_NO</th>\n",
       "      <th>TW_TIME</th>\n",
       "      <th>TW_TEXT</th>\n",
       "      <th>FAV</th>\n",
       "      <th>RT</th>\n",
       "      <th>PERSON</th>\n",
       "      <th>term</th>\n",
       "    </tr>\n",
       "  </thead>\n",
       "  <tbody>\n",
       "    <tr>\n",
       "      <th>0</th>\n",
       "      <td>1191011635109888000</td>\n",
       "      <td>2019-11-04 00:17:56</td>\n",
       "      <td>さよなら？いや、こんにちは。 https://t.co/kb0drHfsr9</td>\n",
       "      <td>6322</td>\n",
       "      <td>655</td>\n",
       "      <td>不明</td>\n",
       "      <td>term3</td>\n",
       "    </tr>\n",
       "    <tr>\n",
       "      <th>1</th>\n",
       "      <td>1190907650810118146</td>\n",
       "      <td>2019-11-03 17:24:44</td>\n",
       "      <td>ついていくしかないんでしょ？行くよ…文責山里</td>\n",
       "      <td>1801</td>\n",
       "      <td>158</td>\n",
       "      <td>山里</td>\n",
       "      <td>term3</td>\n",
       "    </tr>\n",
       "    <tr>\n",
       "      <th>2</th>\n",
       "      <td>1190903280357933056</td>\n",
       "      <td>2019-11-03 17:07:22</td>\n",
       "      <td>ノートの向こう側に連れて行ってあげるからね。楽しみにしててね。文責若林</td>\n",
       "      <td>2578</td>\n",
       "      <td>283</td>\n",
       "      <td>若林</td>\n",
       "      <td>term3</td>\n",
       "    </tr>\n",
       "    <tr>\n",
       "      <th>3</th>\n",
       "      <td>1190879051138781184</td>\n",
       "      <td>2019-11-03 15:31:05</td>\n",
       "      <td>ご指示の通りノート見てたから…文責山里</td>\n",
       "      <td>1192</td>\n",
       "      <td>84</td>\n",
       "      <td>山里</td>\n",
       "      <td>term3</td>\n",
       "    </tr>\n",
       "    <tr>\n",
       "      <th>4</th>\n",
       "      <td>1190872025595699201</td>\n",
       "      <td>2019-11-03 15:03:10</td>\n",
       "      <td>おい、この返しを見るに今日調子良さそうだな。文責若林</td>\n",
       "      <td>1760</td>\n",
       "      <td>120</td>\n",
       "      <td>若林</td>\n",
       "      <td>term3</td>\n",
       "    </tr>\n",
       "  </tbody>\n",
       "</table>\n",
       "</div>"
      ],
      "text/plain": [
       "                 TW_NO             TW_TIME  \\\n",
       "0  1191011635109888000 2019-11-04 00:17:56   \n",
       "1  1190907650810118146 2019-11-03 17:24:44   \n",
       "2  1190903280357933056 2019-11-03 17:07:22   \n",
       "3  1190879051138781184 2019-11-03 15:31:05   \n",
       "4  1190872025595699201 2019-11-03 15:03:10   \n",
       "\n",
       "                                  TW_TEXT   FAV   RT PERSON   term  \n",
       "0  さよなら？いや、こんにちは。 https://t.co/kb0drHfsr9  6322  655     不明  term3  \n",
       "1                  ついていくしかないんでしょ？行くよ…文責山里  1801  158     山里  term3  \n",
       "2     ノートの向こう側に連れて行ってあげるからね。楽しみにしててね。文責若林  2578  283     若林  term3  \n",
       "3                     ご指示の通りノート見てたから…文責山里  1192   84     山里  term3  \n",
       "4              おい、この返しを見るに今日調子良さそうだな。文責若林  1760  120     若林  term3  "
      ]
     },
     "execution_count": 19,
     "metadata": {},
     "output_type": "execute_result"
    }
   ],
   "source": [
    "df.head()"
   ]
  },
  {
   "cell_type": "markdown",
   "metadata": {},
   "source": [
    "## Storing data into csv file"
   ]
  },
  {
   "cell_type": "code",
   "execution_count": 20,
   "metadata": {},
   "outputs": [],
   "source": [
    "df.to_csv('tarifuta_analysis.csv', index=False)"
   ]
  },
  {
   "cell_type": "markdown",
   "metadata": {},
   "source": [
    "## Analyzing data"
   ]
  },
  {
   "cell_type": "markdown",
   "metadata": {},
   "source": [
    "### Reading csv file"
   ]
  },
  {
   "cell_type": "code",
   "execution_count": 21,
   "metadata": {},
   "outputs": [],
   "source": [
    "df = pd.read_csv('tarifuta_analysis.csv')"
   ]
  },
  {
   "cell_type": "code",
   "execution_count": 22,
   "metadata": {},
   "outputs": [
    {
     "data": {
      "text/html": [
       "<div>\n",
       "<style scoped>\n",
       "    .dataframe tbody tr th:only-of-type {\n",
       "        vertical-align: middle;\n",
       "    }\n",
       "\n",
       "    .dataframe tbody tr th {\n",
       "        vertical-align: top;\n",
       "    }\n",
       "\n",
       "    .dataframe thead th {\n",
       "        text-align: right;\n",
       "    }\n",
       "</style>\n",
       "<table border=\"1\" class=\"dataframe\">\n",
       "  <thead>\n",
       "    <tr style=\"text-align: right;\">\n",
       "      <th></th>\n",
       "      <th>TW_NO</th>\n",
       "      <th>TW_TIME</th>\n",
       "      <th>TW_TEXT</th>\n",
       "      <th>FAV</th>\n",
       "      <th>RT</th>\n",
       "      <th>PERSON</th>\n",
       "      <th>term</th>\n",
       "    </tr>\n",
       "  </thead>\n",
       "  <tbody>\n",
       "    <tr>\n",
       "      <th>0</th>\n",
       "      <td>1191011635109888000</td>\n",
       "      <td>2019-11-04 00:17:56</td>\n",
       "      <td>さよなら？いや、こんにちは。 https://t.co/kb0drHfsr9</td>\n",
       "      <td>6322</td>\n",
       "      <td>655</td>\n",
       "      <td>不明</td>\n",
       "      <td>term3</td>\n",
       "    </tr>\n",
       "    <tr>\n",
       "      <th>1</th>\n",
       "      <td>1190907650810118146</td>\n",
       "      <td>2019-11-03 17:24:44</td>\n",
       "      <td>ついていくしかないんでしょ？行くよ…文責山里</td>\n",
       "      <td>1801</td>\n",
       "      <td>158</td>\n",
       "      <td>山里</td>\n",
       "      <td>term3</td>\n",
       "    </tr>\n",
       "    <tr>\n",
       "      <th>2</th>\n",
       "      <td>1190903280357933056</td>\n",
       "      <td>2019-11-03 17:07:22</td>\n",
       "      <td>ノートの向こう側に連れて行ってあげるからね。楽しみにしててね。文責若林</td>\n",
       "      <td>2578</td>\n",
       "      <td>283</td>\n",
       "      <td>若林</td>\n",
       "      <td>term3</td>\n",
       "    </tr>\n",
       "  </tbody>\n",
       "</table>\n",
       "</div>"
      ],
      "text/plain": [
       "                 TW_NO              TW_TIME  \\\n",
       "0  1191011635109888000  2019-11-04 00:17:56   \n",
       "1  1190907650810118146  2019-11-03 17:24:44   \n",
       "2  1190903280357933056  2019-11-03 17:07:22   \n",
       "\n",
       "                                  TW_TEXT   FAV   RT PERSON   term  \n",
       "0  さよなら？いや、こんにちは。 https://t.co/kb0drHfsr9  6322  655     不明  term3  \n",
       "1                  ついていくしかないんでしょ？行くよ…文責山里  1801  158     山里  term3  \n",
       "2     ノートの向こう側に連れて行ってあげるからね。楽しみにしててね。文責若林  2578  283     若林  term3  "
      ]
     },
     "execution_count": 22,
     "metadata": {},
     "output_type": "execute_result"
    }
   ],
   "source": [
    "df.head(3)"
   ]
  },
  {
   "cell_type": "markdown",
   "metadata": {},
   "source": [
    "### Analyzing1. Retweet and favorite count per Person and term"
   ]
  },
  {
   "cell_type": "code",
   "execution_count": 23,
   "metadata": {},
   "outputs": [],
   "source": [
    "# Creating new DataFrame for counting favorite and retweet average\n",
    "df_rt_fav=df.groupby(['PERSON', 'term'])[['RT', 'FAV']].mean().reset_index()\n",
    "\n",
    "# Deleting \"不明\"(Unknown) and \"双方\"(both) in person column\n",
    "df_rt_fav =df_rt_fav[~((df_rt_fav['PERSON']=='不明')|(df_rt_fav['PERSON']=='双方'))]"
   ]
  },
  {
   "cell_type": "code",
   "execution_count": 24,
   "metadata": {},
   "outputs": [
    {
     "data": {
      "text/html": [
       "<div>\n",
       "<style scoped>\n",
       "    .dataframe tbody tr th:only-of-type {\n",
       "        vertical-align: middle;\n",
       "    }\n",
       "\n",
       "    .dataframe tbody tr th {\n",
       "        vertical-align: top;\n",
       "    }\n",
       "\n",
       "    .dataframe thead th {\n",
       "        text-align: right;\n",
       "    }\n",
       "</style>\n",
       "<table border=\"1\" class=\"dataframe\">\n",
       "  <thead>\n",
       "    <tr style=\"text-align: right;\">\n",
       "      <th></th>\n",
       "      <th>PERSON</th>\n",
       "      <th>term</th>\n",
       "      <th>RT</th>\n",
       "      <th>FAV</th>\n",
       "    </tr>\n",
       "  </thead>\n",
       "  <tbody>\n",
       "    <tr>\n",
       "      <th>5</th>\n",
       "      <td>山里</td>\n",
       "      <td>term1</td>\n",
       "      <td>19.625369</td>\n",
       "      <td>34.873156</td>\n",
       "    </tr>\n",
       "    <tr>\n",
       "      <th>6</th>\n",
       "      <td>山里</td>\n",
       "      <td>term2</td>\n",
       "      <td>37.248677</td>\n",
       "      <td>79.761905</td>\n",
       "    </tr>\n",
       "    <tr>\n",
       "      <th>7</th>\n",
       "      <td>山里</td>\n",
       "      <td>term3</td>\n",
       "      <td>145.456140</td>\n",
       "      <td>1263.543860</td>\n",
       "    </tr>\n",
       "    <tr>\n",
       "      <th>8</th>\n",
       "      <td>若林</td>\n",
       "      <td>term1</td>\n",
       "      <td>36.456938</td>\n",
       "      <td>52.440191</td>\n",
       "    </tr>\n",
       "    <tr>\n",
       "      <th>9</th>\n",
       "      <td>若林</td>\n",
       "      <td>term2</td>\n",
       "      <td>62.527523</td>\n",
       "      <td>149.233945</td>\n",
       "    </tr>\n",
       "    <tr>\n",
       "      <th>10</th>\n",
       "      <td>若林</td>\n",
       "      <td>term3</td>\n",
       "      <td>234.292308</td>\n",
       "      <td>1897.076923</td>\n",
       "    </tr>\n",
       "  </tbody>\n",
       "</table>\n",
       "</div>"
      ],
      "text/plain": [
       "   PERSON   term          RT          FAV\n",
       "5      山里  term1   19.625369    34.873156\n",
       "6      山里  term2   37.248677    79.761905\n",
       "7      山里  term3  145.456140  1263.543860\n",
       "8      若林  term1   36.456938    52.440191\n",
       "9      若林  term2   62.527523   149.233945\n",
       "10     若林  term3  234.292308  1897.076923"
      ]
     },
     "execution_count": 24,
     "metadata": {},
     "output_type": "execute_result"
    }
   ],
   "source": [
    "df_rt_fav"
   ]
  },
  {
   "cell_type": "code",
   "execution_count": 25,
   "metadata": {},
   "outputs": [
    {
     "name": "stdout",
     "output_type": "stream",
     "text": [
      "In term1, Retweet to Yamasato is 53.0 % compared to Retweet to Wakabayashi\n",
      "In term2, Retweet to Yamasato is 60.0 % compared to Retweet to Wakabayashi\n",
      "In term3, Retweet to Yamasato is 62.0 % compared to Retweet to Wakabayashi\n"
     ]
    }
   ],
   "source": [
    "# Comparing retweet average\n",
    "for term in ['term1', 'term2', 'term3']:\n",
    "    y_rt =df_rt_fav.loc[(df_rt_fav['PERSON']=='山里')&(df_rt_fav['term']==term),'RT']\n",
    "    w_rt =df_rt_fav.loc[(df_rt_fav['PERSON']=='若林')&(df_rt_fav['term']==term),'RT']\n",
    "    percent= np.round(int(y_rt)/int(w_rt)*100, 0)\n",
    "    print('In {}, Retweet to Yamasato is {} % compared to Retweet to Wakabayashi'.format(term, percent))"
   ]
  },
  {
   "cell_type": "code",
   "execution_count": 26,
   "metadata": {},
   "outputs": [
    {
     "name": "stdout",
     "output_type": "stream",
     "text": [
      "In term1, Favorite to Yamasato is 65.0 % compared to Favorite to Wakabayashi\n",
      "In term2, Favorite to Yamasato is 53.0 % compared to Favorite to Wakabayashi\n",
      "In term3, Favorite to Yamasato is 67.0 % compared to Favorite to Wakabayashi\n"
     ]
    }
   ],
   "source": [
    "# Comparing favorite average\n",
    "for term in ['term1', 'term2', 'term3']:\n",
    "    y_fav =df_rt_fav.loc[(df_rt_fav['PERSON']=='山里')&(df_rt_fav['term']==term),'FAV']\n",
    "    w_fav =df_rt_fav.loc[(df_rt_fav['PERSON']=='若林')&(df_rt_fav['term']==term),'FAV']\n",
    "    percent= np.round(int(y_fav)/int(w_fav)*100, 0)\n",
    "    print('In {}, Favorite to Yamasato is {} % compared to Favorite to Wakabayashi'.format(term, percent))"
   ]
  },
  {
   "cell_type": "code",
   "execution_count": 27,
   "metadata": {},
   "outputs": [
    {
     "data": {
      "image/png": "[encoded data removed]",
      "text/plain": [
       "<Figure size 864x360 with 2 Axes>"
      ]
     },
     "metadata": {
      "needs_background": "light"
     },
     "output_type": "display_data"
    }
   ],
   "source": [
    "# Displaying the average of retweet and favorite per term and person\n",
    "plt.figure(figsize = [12, 5])\n",
    "\n",
    "plt.subplot(1, 2, 1)\n",
    "sb.barplot(data=df_rt_fav, x='term',y='RT',hue='PERSON')\n",
    "plt.ylim((0,2000))\n",
    "plt.title('各termでの1tweetあたりのretweet数')\n",
    "\n",
    "plt.subplot(1, 2, 2)\n",
    "sb.barplot(data=df_rt_fav, x='term',y='FAV',hue='PERSON')\n",
    "plt.ylim((0,2000))\n",
    "plt.title('各termでの1tweetあたりのfavorite数');"
   ]
  },
  {
   "cell_type": "markdown",
   "metadata": {},
   "source": [
    "#### Conclusion: Wakabayashi has more retweet and favorite than Yamasato"
   ]
  },
  {
   "cell_type": "markdown",
   "metadata": {},
   "source": [
    "### Analyzing2. Top5 retweeted per Person and term"
   ]
  },
  {
   "cell_type": "code",
   "execution_count": 63,
   "metadata": {},
   "outputs": [],
   "source": [
    "from IPython.display import display"
   ]
  },
  {
   "cell_type": "code",
   "execution_count": 86,
   "metadata": {},
   "outputs": [
    {
     "data": {
      "text/html": [
       "<div>\n",
       "<style scoped>\n",
       "    .dataframe tbody tr th:only-of-type {\n",
       "        vertical-align: middle;\n",
       "    }\n",
       "\n",
       "    .dataframe tbody tr th {\n",
       "        vertical-align: top;\n",
       "    }\n",
       "\n",
       "    .dataframe thead th {\n",
       "        text-align: right;\n",
       "    }\n",
       "</style>\n",
       "<table border=\"1\" class=\"dataframe\">\n",
       "  <thead>\n",
       "    <tr style=\"text-align: right;\">\n",
       "      <th></th>\n",
       "      <th>TW_TEXT</th>\n",
       "      <th>FAV</th>\n",
       "    </tr>\n",
       "  </thead>\n",
       "  <tbody>\n",
       "    <tr>\n",
       "      <th>1701</th>\n",
       "      <td>初めて言ってみよっと。「君、かわうぃーーーね！」文責若林</td>\n",
       "      <td>201</td>\n",
       "    </tr>\n",
       "    <tr>\n",
       "      <th>1546</th>\n",
       "      <td>オレ人間不信になりました。文責若林</td>\n",
       "      <td>200</td>\n",
       "    </tr>\n",
       "    <tr>\n",
       "      <th>1700</th>\n",
       "      <td>「あげぽよー」っと！文責若林</td>\n",
       "      <td>172</td>\n",
       "    </tr>\n",
       "    <tr>\n",
       "      <th>1647</th>\n",
       "      <td>みなさん愛してます(プププ)ライブ楽しんでくださいね(ククク)文責若林</td>\n",
       "      <td>164</td>\n",
       "    </tr>\n",
       "    <tr>\n",
       "      <th>1747</th>\n",
       "      <td>では、私は実際にK1のリングに上がった男を召喚しましょうか？文責若林</td>\n",
       "      <td>148</td>\n",
       "    </tr>\n",
       "  </tbody>\n",
       "</table>\n",
       "</div>"
      ],
      "text/plain": [
       "                                  TW_TEXT  FAV\n",
       "1701         初めて言ってみよっと。「君、かわうぃーーーね！」文責若林  201\n",
       "1546                    オレ人間不信になりました。文責若林  200\n",
       "1700                       「あげぽよー」っと！文責若林  172\n",
       "1647  みなさん愛してます(プププ)ライブ楽しんでくださいね(ククク)文責若林  164\n",
       "1747   では、私は実際にK1のリングに上がった男を召喚しましょうか？文責若林  148"
      ]
     },
     "metadata": {},
     "output_type": "display_data"
    },
    {
     "name": "stdout",
     "output_type": "stream",
     "text": [
      "term:term1, person若林\n"
     ]
    },
    {
     "data": {
      "text/html": [
       "<div>\n",
       "<style scoped>\n",
       "    .dataframe tbody tr th:only-of-type {\n",
       "        vertical-align: middle;\n",
       "    }\n",
       "\n",
       "    .dataframe tbody tr th {\n",
       "        vertical-align: top;\n",
       "    }\n",
       "\n",
       "    .dataframe thead th {\n",
       "        text-align: right;\n",
       "    }\n",
       "</style>\n",
       "<table border=\"1\" class=\"dataframe\">\n",
       "  <thead>\n",
       "    <tr style=\"text-align: right;\">\n",
       "      <th></th>\n",
       "      <th>TW_TEXT</th>\n",
       "      <th>FAV</th>\n",
       "    </tr>\n",
       "  </thead>\n",
       "  <tbody>\n",
       "    <tr>\n",
       "      <th>125</th>\n",
       "      <td>メリークリスマス！このDVDを、あなたの大切な人に…頑張った自分へのご褒美に…     文責若林 http://t.co/pwJY2zET7y</td>\n",
       "      <td>1655</td>\n",
       "    </tr>\n",
       "    <tr>\n",
       "      <th>197</th>\n",
       "      <td>チュウ、チュウ。文責悪鼠 http://t.co/p14YvibKcf</td>\n",
       "      <td>773</td>\n",
       "    </tr>\n",
       "    <tr>\n",
       "      <th>195</th>\n",
       "      <td>チュウ、チュウ。文責悪鼠 http://t.co/SKT6Xn93il</td>\n",
       "      <td>549</td>\n",
       "    </tr>\n",
       "    <tr>\n",
       "      <th>251</th>\n",
       "      <td>イクラの軍艦がハートになってました。気づいたら笑顔になってました。癒されるなー。文責若林 http://t.co/37jE2iSNyj</td>\n",
       "      <td>451</td>\n",
       "    </tr>\n",
       "    <tr>\n",
       "      <th>530</th>\n",
       "      <td>去年やった単独ライブでオードリーの漫才にまだ余白があることを発見して、最近はそのことをたまに考えていたので、ここへきての唐突な赤メガネにびっくりしてしまって。文責若林</td>\n",
       "      <td>447</td>\n",
       "    </tr>\n",
       "  </tbody>\n",
       "</table>\n",
       "</div>"
      ],
      "text/plain": [
       "                                                                                 TW_TEXT  \\\n",
       "125              メリークリスマス！このDVDを、あなたの大切な人に…頑張った自分へのご褒美に…     文責若林 http://t.co/pwJY2zET7y   \n",
       "197                                                  チュウ、チュウ。文責悪鼠 http://t.co/p14YvibKcf   \n",
       "195                                                  チュウ、チュウ。文責悪鼠 http://t.co/SKT6Xn93il   \n",
       "251                  イクラの軍艦がハートになってました。気づいたら笑顔になってました。癒されるなー。文責若林 http://t.co/37jE2iSNyj   \n",
       "530  去年やった単独ライブでオードリーの漫才にまだ余白があることを発見して、最近はそのことをたまに考えていたので、ここへきての唐突な赤メガネにびっくりしてしまって。文責若林   \n",
       "\n",
       "      FAV  \n",
       "125  1655  \n",
       "197   773  \n",
       "195   549  \n",
       "251   451  \n",
       "530   447  "
      ]
     },
     "metadata": {},
     "output_type": "display_data"
    },
    {
     "name": "stdout",
     "output_type": "stream",
     "text": [
      "term:term2, person若林\n"
     ]
    },
    {
     "data": {
      "text/html": [
       "<div>\n",
       "<style scoped>\n",
       "    .dataframe tbody tr th:only-of-type {\n",
       "        vertical-align: middle;\n",
       "    }\n",
       "\n",
       "    .dataframe tbody tr th {\n",
       "        vertical-align: top;\n",
       "    }\n",
       "\n",
       "    .dataframe thead th {\n",
       "        text-align: right;\n",
       "    }\n",
       "</style>\n",
       "<table border=\"1\" class=\"dataframe\">\n",
       "  <thead>\n",
       "    <tr style=\"text-align: right;\">\n",
       "      <th></th>\n",
       "      <th>TW_TEXT</th>\n",
       "      <th>FAV</th>\n",
       "    </tr>\n",
       "  </thead>\n",
       "  <tbody>\n",
       "    <tr>\n",
       "      <th>34</th>\n",
       "      <td>明日以降に情報解禁なのですが、日本一のバトルMC、世界一のバトルDJ、宇宙一の音源でおなじみのCreepy Nutsが、さよならたりないふたりのライブでのみ聴けるヒップホップを提供してくれたらしいです！文責若林</td>\n",
       "      <td>5793</td>\n",
       "    </tr>\n",
       "    <tr>\n",
       "      <th>123</th>\n",
       "      <td>毎年誕生日にメールくれるんだよな。怖いなぁ。でも、そういうところかぁ…文責若林</td>\n",
       "      <td>5750</td>\n",
       "    </tr>\n",
       "    <tr>\n",
       "      <th>121</th>\n",
       "      <td>そういうとこなんだよね。の説得力が5年前とは桁違いだ。文責若林</td>\n",
       "      <td>3961</td>\n",
       "    </tr>\n",
       "    <tr>\n",
       "      <th>60</th>\n",
       "      <td>トゥース！文責若林 https://t.co/ZpZ4rjau0s</td>\n",
       "      <td>3523</td>\n",
       "    </tr>\n",
       "    <tr>\n",
       "      <th>82</th>\n",
       "      <td>なんだこの表情の差は！文責若林 https://t.co/FU2sUMRbCk</td>\n",
       "      <td>3094</td>\n",
       "    </tr>\n",
       "  </tbody>\n",
       "</table>\n",
       "</div>"
      ],
      "text/plain": [
       "                                                                                                       TW_TEXT  \\\n",
       "34   明日以降に情報解禁なのですが、日本一のバトルMC、世界一のバトルDJ、宇宙一の音源でおなじみのCreepy Nutsが、さよならたりないふたりのライブでのみ聴けるヒップホップを提供してくれたらしいです！文責若林   \n",
       "123                                                                    毎年誕生日にメールくれるんだよな。怖いなぁ。でも、そういうところかぁ…文責若林   \n",
       "121                                                                            そういうとこなんだよね。の説得力が5年前とは桁違いだ。文責若林   \n",
       "60                                                                           トゥース！文責若林 https://t.co/ZpZ4rjau0s   \n",
       "82                                                                     なんだこの表情の差は！文責若林 https://t.co/FU2sUMRbCk   \n",
       "\n",
       "      FAV  \n",
       "34   5793  \n",
       "123  5750  \n",
       "121  3961  \n",
       "60   3523  \n",
       "82   3094  "
      ]
     },
     "metadata": {},
     "output_type": "display_data"
    },
    {
     "name": "stdout",
     "output_type": "stream",
     "text": [
      "term:term3, person若林\n"
     ]
    },
    {
     "data": {
      "text/html": [
       "<div>\n",
       "<style scoped>\n",
       "    .dataframe tbody tr th:only-of-type {\n",
       "        vertical-align: middle;\n",
       "    }\n",
       "\n",
       "    .dataframe tbody tr th {\n",
       "        vertical-align: top;\n",
       "    }\n",
       "\n",
       "    .dataframe thead th {\n",
       "        text-align: right;\n",
       "    }\n",
       "</style>\n",
       "<table border=\"1\" class=\"dataframe\">\n",
       "  <thead>\n",
       "    <tr style=\"text-align: right;\">\n",
       "      <th></th>\n",
       "      <th>TW_TEXT</th>\n",
       "      <th>FAV</th>\n",
       "    </tr>\n",
       "  </thead>\n",
       "  <tbody>\n",
       "    <tr>\n",
       "      <th>1077</th>\n",
       "      <td>祝われちゃった！文責山里 http://t.co/vHqE2xn8</td>\n",
       "      <td>236</td>\n",
       "    </tr>\n",
       "    <tr>\n",
       "      <th>1447</th>\n",
       "      <td>若林くんへの悪態なんて思いつかないよ…高い確率で目が死んでるとか、笑い声がほぼ悪魔の時があるとか、心のセキュリティがひどすぎるとか、僕の誘いを断る時の断り方が狂ってるとか、人の失敗をギャグ漫画でも見るような目で見てるときがあるとか、クズ位しか思いつかないです。文責山里</td>\n",
       "      <td>154</td>\n",
       "    </tr>\n",
       "    <tr>\n",
       "      <th>1798</th>\n",
       "      <td>『たりないふたり』山里亮太・若林正恭。11月12日。18時開場 18時30分開演。会場:草月ホール:チケットぴあにて10月8日(土)プレリザーブ10月15日(土)一般発売料金:3800円全席指定Pコード:416-067文責山里</td>\n",
       "      <td>129</td>\n",
       "    </tr>\n",
       "    <tr>\n",
       "      <th>1676</th>\n",
       "      <td>今日も若林くんは僕を責めたてる…ふと見つけた二年前のたりないふたり初打ち合わせの時の写真に涙…あの頃の若林くんの辞書には「遠慮」という文字があったのに…文責山里 http://t.co/aeg1QkDE</td>\n",
       "      <td>120</td>\n",
       "    </tr>\n",
       "    <tr>\n",
       "      <th>1748</th>\n",
       "      <td>チャン若･･･いや、若林くん･･･まぁ落ち着いて！   いざとなったらこちらは国旗を背負った拳を持つ女を召喚することも･･･文責山里</td>\n",
       "      <td>96</td>\n",
       "    </tr>\n",
       "  </tbody>\n",
       "</table>\n",
       "</div>"
      ],
      "text/plain": [
       "                                                                                                                                     TW_TEXT  \\\n",
       "1077                                                                                                       祝われちゃった！文責山里 http://t.co/vHqE2xn8   \n",
       "1447  若林くんへの悪態なんて思いつかないよ…高い確率で目が死んでるとか、笑い声がほぼ悪魔の時があるとか、心のセキュリティがひどすぎるとか、僕の誘いを断る時の断り方が狂ってるとか、人の失敗をギャグ漫画でも見るような目で見てるときがあるとか、クズ位しか思いつかないです。文責山里   \n",
       "1798                       『たりないふたり』山里亮太・若林正恭。11月12日。18時開場 18時30分開演。会場:草月ホール:チケットぴあにて10月8日(土)プレリザーブ10月15日(土)一般発売料金:3800円全席指定Pコード:416-067文責山里   \n",
       "1676                                   今日も若林くんは僕を責めたてる…ふと見つけた二年前のたりないふたり初打ち合わせの時の写真に涙…あの頃の若林くんの辞書には「遠慮」という文字があったのに…文責山里 http://t.co/aeg1QkDE   \n",
       "1748                                                                      チャン若･･･いや、若林くん･･･まぁ落ち着いて！   いざとなったらこちらは国旗を背負った拳を持つ女を召喚することも･･･文責山里   \n",
       "\n",
       "      FAV  \n",
       "1077  236  \n",
       "1447  154  \n",
       "1798  129  \n",
       "1676  120  \n",
       "1748   96  "
      ]
     },
     "metadata": {},
     "output_type": "display_data"
    },
    {
     "name": "stdout",
     "output_type": "stream",
     "text": [
      "term:term1, person山里\n"
     ]
    },
    {
     "data": {
      "text/html": [
       "<div>\n",
       "<style scoped>\n",
       "    .dataframe tbody tr th:only-of-type {\n",
       "        vertical-align: middle;\n",
       "    }\n",
       "\n",
       "    .dataframe tbody tr th {\n",
       "        vertical-align: top;\n",
       "    }\n",
       "\n",
       "    .dataframe thead th {\n",
       "        text-align: right;\n",
       "    }\n",
       "</style>\n",
       "<table border=\"1\" class=\"dataframe\">\n",
       "  <thead>\n",
       "    <tr style=\"text-align: right;\">\n",
       "      <th></th>\n",
       "      <th>TW_TEXT</th>\n",
       "      <th>FAV</th>\n",
       "    </tr>\n",
       "  </thead>\n",
       "  <tbody>\n",
       "    <tr>\n",
       "      <th>124</th>\n",
       "      <td>若林くんこんな顔できるんだ…ん？目が死んでらぁ…文責山里</td>\n",
       "      <td>335</td>\n",
       "    </tr>\n",
       "    <tr>\n",
       "      <th>542</th>\n",
       "      <td>なんかすごい話を聞いたんだけど、若林くんやれる？文責山里</td>\n",
       "      <td>317</td>\n",
       "    </tr>\n",
       "    <tr>\n",
       "      <th>540</th>\n",
       "      <td>もう怖い…あの男は、たりないふたりごと忘れてしまったのでは！？そうだ、打ち上げ誘っても「トイストーリーのDVDを観る」を理由に帰ったりする男だからなぁ…文責山里</td>\n",
       "      <td>242</td>\n",
       "    </tr>\n",
       "    <tr>\n",
       "      <th>504</th>\n",
       "      <td>そうだね…次の４月から用意された場所は[もっと！たりないふたり]らしいしね。文責山里</td>\n",
       "      <td>196</td>\n",
       "    </tr>\n",
       "    <tr>\n",
       "      <th>510</th>\n",
       "      <td>犬は分かるんだよ若林くん。僕も触れ合ってるイルカが途中から体調悪くなった事があるよ。文責山里</td>\n",
       "      <td>184</td>\n",
       "    </tr>\n",
       "  </tbody>\n",
       "</table>\n",
       "</div>"
      ],
      "text/plain": [
       "                                                                              TW_TEXT  \\\n",
       "124                                                      若林くんこんな顔できるんだ…ん？目が死んでらぁ…文責山里   \n",
       "542                                                      なんかすごい話を聞いたんだけど、若林くんやれる？文責山里   \n",
       "540  もう怖い…あの男は、たりないふたりごと忘れてしまったのでは！？そうだ、打ち上げ誘っても「トイストーリーのDVDを観る」を理由に帰ったりする男だからなぁ…文責山里   \n",
       "504                                        そうだね…次の４月から用意された場所は[もっと！たりないふたり]らしいしね。文責山里   \n",
       "510                                    犬は分かるんだよ若林くん。僕も触れ合ってるイルカが途中から体調悪くなった事があるよ。文責山里   \n",
       "\n",
       "     FAV  \n",
       "124  335  \n",
       "542  317  \n",
       "540  242  \n",
       "504  196  \n",
       "510  184  "
      ]
     },
     "metadata": {},
     "output_type": "display_data"
    },
    {
     "name": "stdout",
     "output_type": "stream",
     "text": [
      "term:term2, person山里\n"
     ]
    },
    {
     "data": {
      "text/html": [
       "<div>\n",
       "<style scoped>\n",
       "    .dataframe tbody tr th:only-of-type {\n",
       "        vertical-align: middle;\n",
       "    }\n",
       "\n",
       "    .dataframe tbody tr th {\n",
       "        vertical-align: top;\n",
       "    }\n",
       "\n",
       "    .dataframe thead th {\n",
       "        text-align: right;\n",
       "    }\n",
       "</style>\n",
       "<table border=\"1\" class=\"dataframe\">\n",
       "  <thead>\n",
       "    <tr style=\"text-align: right;\">\n",
       "      <th></th>\n",
       "      <th>TW_TEXT</th>\n",
       "      <th>FAV</th>\n",
       "    </tr>\n",
       "  </thead>\n",
       "  <tbody>\n",
       "    <tr>\n",
       "      <th>122</th>\n",
       "      <td>おめでとうで恐怖を感じられたのは初めてです。なにより若林くん、もう、おめでとうも素直に受け取れなくなってるんだね…そういうとこなんだよね。文責山里</td>\n",
       "      <td>4340</td>\n",
       "    </tr>\n",
       "    <tr>\n",
       "      <th>66</th>\n",
       "      <td>たりないふたりのチケットについてのつぶやきを見る、本当にありがたい。当選した人のアカウントを見る、紹介文のところに、高い確率でリトルトゥースという単語が目に飛び込んでくる。まさかアウェイでのぞむことになるのだろうか…文責山里</td>\n",
       "      <td>2387</td>\n",
       "    </tr>\n",
       "    <tr>\n",
       "      <th>120</th>\n",
       "      <td>なぁ、もう少し文字に感情込めてもらえないかな？文字から棒読みが伝わってくるのよ文責山里</td>\n",
       "      <td>2041</td>\n",
       "    </tr>\n",
       "    <tr>\n",
       "      <th>20</th>\n",
       "      <td>すごい情報解禁なのに、すごさが少し減った…原因はあなたよ若林くん文責山里 https://t.co/pI69UIU1zK</td>\n",
       "      <td>1870</td>\n",
       "    </tr>\n",
       "    <tr>\n",
       "      <th>10</th>\n",
       "      <td>繋いでた鎖切りやがったな！やってやるよ、こっちだってな色々思ってるところあるんだよ！カス？カスなめんなよ、待っとけクズ！文責山里</td>\n",
       "      <td>1808</td>\n",
       "    </tr>\n",
       "  </tbody>\n",
       "</table>\n",
       "</div>"
      ],
      "text/plain": [
       "                                                                                                              TW_TEXT  \\\n",
       "122                                         おめでとうで恐怖を感じられたのは初めてです。なにより若林くん、もう、おめでとうも素直に受け取れなくなってるんだね…そういうとこなんだよね。文責山里   \n",
       "66   たりないふたりのチケットについてのつぶやきを見る、本当にありがたい。当選した人のアカウントを見る、紹介文のところに、高い確率でリトルトゥースという単語が目に飛び込んでくる。まさかアウェイでのぞむことになるのだろうか…文責山里   \n",
       "120                                                                       なぁ、もう少し文字に感情込めてもらえないかな？文字から棒読みが伝わってくるのよ文責山里   \n",
       "20                                                       すごい情報解禁なのに、すごさが少し減った…原因はあなたよ若林くん文責山里 https://t.co/pI69UIU1zK   \n",
       "10                                                   繋いでた鎖切りやがったな！やってやるよ、こっちだってな色々思ってるところあるんだよ！カス？カスなめんなよ、待っとけクズ！文責山里   \n",
       "\n",
       "      FAV  \n",
       "122  4340  \n",
       "66   2387  \n",
       "120  2041  \n",
       "20   1870  \n",
       "10   1808  "
      ]
     },
     "metadata": {},
     "output_type": "display_data"
    },
    {
     "name": "stdout",
     "output_type": "stream",
     "text": [
      "term:term3, person山里\n"
     ]
    }
   ],
   "source": [
    "for person in ['若林','山里']:\n",
    "    for term in ['term1', 'term2', 'term3']:\n",
    "        df_fav_text =df[(df['PERSON']==person)&(df['term']==term)].sort_values('FAV', ascending=False)[['TW_TEXT', 'FAV']].head()\n",
    "        display(df_fav_text)\n",
    "        print(\"term:{}, person{}\".format(term,person))"
   ]
  },
  {
   "cell_type": "markdown",
   "metadata": {},
   "source": [
    "### Analyzing3. The number of tweet per term"
   ]
  },
  {
   "cell_type": "code",
   "execution_count": 80,
   "metadata": {},
   "outputs": [
    {
     "ename": "KeyError",
     "evalue": "0",
     "output_type": "error",
     "traceback": [
      "\u001b[0;31m---------------------------------------------------------------------------\u001b[0m",
      "\u001b[0;31mKeyError\u001b[0m                                  Traceback (most recent call last)",
      "\u001b[0;32m~/anaconda3/lib/python3.7/site-packages/pandas/core/indexes/base.py\u001b[0m in \u001b[0;36mget_loc\u001b[0;34m(self, key, method, tolerance)\u001b[0m\n\u001b[1;32m   2656\u001b[0m             \u001b[0;32mtry\u001b[0m\u001b[0;34m:\u001b[0m\u001b[0;34m\u001b[0m\u001b[0;34m\u001b[0m\u001b[0m\n\u001b[0;32m-> 2657\u001b[0;31m                 \u001b[0;32mreturn\u001b[0m \u001b[0mself\u001b[0m\u001b[0;34m.\u001b[0m\u001b[0m_engine\u001b[0m\u001b[0;34m.\u001b[0m\u001b[0mget_loc\u001b[0m\u001b[0;34m(\u001b[0m\u001b[0mkey\u001b[0m\u001b[0;34m)\u001b[0m\u001b[0;34m\u001b[0m\u001b[0;34m\u001b[0m\u001b[0m\n\u001b[0m\u001b[1;32m   2658\u001b[0m             \u001b[0;32mexcept\u001b[0m \u001b[0mKeyError\u001b[0m\u001b[0;34m:\u001b[0m\u001b[0;34m\u001b[0m\u001b[0;34m\u001b[0m\u001b[0m\n",
      "\u001b[0;32mpandas/_libs/index.pyx\u001b[0m in \u001b[0;36mpandas._libs.index.IndexEngine.get_loc\u001b[0;34m()\u001b[0m\n",
      "\u001b[0;32mpandas/_libs/index.pyx\u001b[0m in \u001b[0;36mpandas._libs.index.IndexEngine.get_loc\u001b[0;34m()\u001b[0m\n",
      "\u001b[0;32mpandas/_libs/hashtable_class_helper.pxi\u001b[0m in \u001b[0;36mpandas._libs.hashtable.PyObjectHashTable.get_item\u001b[0;34m()\u001b[0m\n",
      "\u001b[0;32mpandas/_libs/hashtable_class_helper.pxi\u001b[0m in \u001b[0;36mpandas._libs.hashtable.PyObjectHashTable.get_item\u001b[0;34m()\u001b[0m\n",
      "\u001b[0;31mKeyError\u001b[0m: 0",
      "\nDuring handling of the above exception, another exception occurred:\n",
      "\u001b[0;31mKeyError\u001b[0m                                  Traceback (most recent call last)",
      "\u001b[0;32m<ipython-input-80-093cc079f74c>\u001b[0m in \u001b[0;36m<module>\u001b[0;34m\u001b[0m\n\u001b[1;32m      7\u001b[0m \u001b[0max\u001b[0m\u001b[0;34m.\u001b[0m\u001b[0myaxis\u001b[0m\u001b[0;34m.\u001b[0m\u001b[0mset_visible\u001b[0m\u001b[0;34m(\u001b[0m\u001b[0;32mFalse\u001b[0m\u001b[0;34m)\u001b[0m  \u001b[0;31m# hide the y axis\u001b[0m\u001b[0;34m\u001b[0m\u001b[0;34m\u001b[0m\u001b[0m\n\u001b[1;32m      8\u001b[0m \u001b[0;34m\u001b[0m\u001b[0m\n\u001b[0;32m----> 9\u001b[0;31m \u001b[0max\u001b[0m\u001b[0;34m.\u001b[0m\u001b[0mtable\u001b[0m\u001b[0;34m(\u001b[0m\u001b[0mdf_fav_text\u001b[0m\u001b[0;34m)\u001b[0m  \u001b[0;31m# where df is your data frame\u001b[0m\u001b[0;34m\u001b[0m\u001b[0;34m\u001b[0m\u001b[0m\n\u001b[0m\u001b[1;32m     10\u001b[0m \u001b[0;34m\u001b[0m\u001b[0m\n\u001b[1;32m     11\u001b[0m \u001b[0mplt\u001b[0m\u001b[0;34m.\u001b[0m\u001b[0msavefig\u001b[0m\u001b[0;34m(\u001b[0m\u001b[0;34m'mytable.png'\u001b[0m\u001b[0;34m)\u001b[0m\u001b[0;34m\u001b[0m\u001b[0;34m\u001b[0m\u001b[0m\n",
      "\u001b[0;32m~/anaconda3/lib/python3.7/site-packages/matplotlib/table.py\u001b[0m in \u001b[0;36mtable\u001b[0;34m(ax, cellText, cellColours, cellLoc, colWidths, rowLabels, rowColours, rowLoc, colLabels, colColours, colLoc, loc, bbox, edges, **kwargs)\u001b[0m\n\u001b[1;32m    753\u001b[0m \u001b[0;34m\u001b[0m\u001b[0m\n\u001b[1;32m    754\u001b[0m     \u001b[0mrows\u001b[0m \u001b[0;34m=\u001b[0m \u001b[0mlen\u001b[0m\u001b[0;34m(\u001b[0m\u001b[0mcellText\u001b[0m\u001b[0;34m)\u001b[0m\u001b[0;34m\u001b[0m\u001b[0;34m\u001b[0m\u001b[0m\n\u001b[0;32m--> 755\u001b[0;31m     \u001b[0mcols\u001b[0m \u001b[0;34m=\u001b[0m \u001b[0mlen\u001b[0m\u001b[0;34m(\u001b[0m\u001b[0mcellText\u001b[0m\u001b[0;34m[\u001b[0m\u001b[0;36m0\u001b[0m\u001b[0;34m]\u001b[0m\u001b[0;34m)\u001b[0m\u001b[0;34m\u001b[0m\u001b[0;34m\u001b[0m\u001b[0m\n\u001b[0m\u001b[1;32m    756\u001b[0m     \u001b[0;32mfor\u001b[0m \u001b[0mrow\u001b[0m \u001b[0;32min\u001b[0m \u001b[0mcellText\u001b[0m\u001b[0;34m:\u001b[0m\u001b[0;34m\u001b[0m\u001b[0;34m\u001b[0m\u001b[0m\n\u001b[1;32m    757\u001b[0m         \u001b[0;32mif\u001b[0m \u001b[0mlen\u001b[0m\u001b[0;34m(\u001b[0m\u001b[0mrow\u001b[0m\u001b[0;34m)\u001b[0m \u001b[0;34m!=\u001b[0m \u001b[0mcols\u001b[0m\u001b[0;34m:\u001b[0m\u001b[0;34m\u001b[0m\u001b[0;34m\u001b[0m\u001b[0m\n",
      "\u001b[0;32m~/anaconda3/lib/python3.7/site-packages/pandas/core/frame.py\u001b[0m in \u001b[0;36m__getitem__\u001b[0;34m(self, key)\u001b[0m\n\u001b[1;32m   2925\u001b[0m             \u001b[0;32mif\u001b[0m \u001b[0mself\u001b[0m\u001b[0;34m.\u001b[0m\u001b[0mcolumns\u001b[0m\u001b[0;34m.\u001b[0m\u001b[0mnlevels\u001b[0m \u001b[0;34m>\u001b[0m \u001b[0;36m1\u001b[0m\u001b[0;34m:\u001b[0m\u001b[0;34m\u001b[0m\u001b[0;34m\u001b[0m\u001b[0m\n\u001b[1;32m   2926\u001b[0m                 \u001b[0;32mreturn\u001b[0m \u001b[0mself\u001b[0m\u001b[0;34m.\u001b[0m\u001b[0m_getitem_multilevel\u001b[0m\u001b[0;34m(\u001b[0m\u001b[0mkey\u001b[0m\u001b[0;34m)\u001b[0m\u001b[0;34m\u001b[0m\u001b[0;34m\u001b[0m\u001b[0m\n\u001b[0;32m-> 2927\u001b[0;31m             \u001b[0mindexer\u001b[0m \u001b[0;34m=\u001b[0m \u001b[0mself\u001b[0m\u001b[0;34m.\u001b[0m\u001b[0mcolumns\u001b[0m\u001b[0;34m.\u001b[0m\u001b[0mget_loc\u001b[0m\u001b[0;34m(\u001b[0m\u001b[0mkey\u001b[0m\u001b[0;34m)\u001b[0m\u001b[0;34m\u001b[0m\u001b[0;34m\u001b[0m\u001b[0m\n\u001b[0m\u001b[1;32m   2928\u001b[0m             \u001b[0;32mif\u001b[0m \u001b[0mis_integer\u001b[0m\u001b[0;34m(\u001b[0m\u001b[0mindexer\u001b[0m\u001b[0;34m)\u001b[0m\u001b[0;34m:\u001b[0m\u001b[0;34m\u001b[0m\u001b[0;34m\u001b[0m\u001b[0m\n\u001b[1;32m   2929\u001b[0m                 \u001b[0mindexer\u001b[0m \u001b[0;34m=\u001b[0m \u001b[0;34m[\u001b[0m\u001b[0mindexer\u001b[0m\u001b[0;34m]\u001b[0m\u001b[0;34m\u001b[0m\u001b[0;34m\u001b[0m\u001b[0m\n",
      "\u001b[0;32m~/anaconda3/lib/python3.7/site-packages/pandas/core/indexes/base.py\u001b[0m in \u001b[0;36mget_loc\u001b[0;34m(self, key, method, tolerance)\u001b[0m\n\u001b[1;32m   2657\u001b[0m                 \u001b[0;32mreturn\u001b[0m \u001b[0mself\u001b[0m\u001b[0;34m.\u001b[0m\u001b[0m_engine\u001b[0m\u001b[0;34m.\u001b[0m\u001b[0mget_loc\u001b[0m\u001b[0;34m(\u001b[0m\u001b[0mkey\u001b[0m\u001b[0;34m)\u001b[0m\u001b[0;34m\u001b[0m\u001b[0;34m\u001b[0m\u001b[0m\n\u001b[1;32m   2658\u001b[0m             \u001b[0;32mexcept\u001b[0m \u001b[0mKeyError\u001b[0m\u001b[0;34m:\u001b[0m\u001b[0;34m\u001b[0m\u001b[0;34m\u001b[0m\u001b[0m\n\u001b[0;32m-> 2659\u001b[0;31m                 \u001b[0;32mreturn\u001b[0m \u001b[0mself\u001b[0m\u001b[0;34m.\u001b[0m\u001b[0m_engine\u001b[0m\u001b[0;34m.\u001b[0m\u001b[0mget_loc\u001b[0m\u001b[0;34m(\u001b[0m\u001b[0mself\u001b[0m\u001b[0;34m.\u001b[0m\u001b[0m_maybe_cast_indexer\u001b[0m\u001b[0;34m(\u001b[0m\u001b[0mkey\u001b[0m\u001b[0;34m)\u001b[0m\u001b[0;34m)\u001b[0m\u001b[0;34m\u001b[0m\u001b[0;34m\u001b[0m\u001b[0m\n\u001b[0m\u001b[1;32m   2660\u001b[0m         \u001b[0mindexer\u001b[0m \u001b[0;34m=\u001b[0m \u001b[0mself\u001b[0m\u001b[0;34m.\u001b[0m\u001b[0mget_indexer\u001b[0m\u001b[0;34m(\u001b[0m\u001b[0;34m[\u001b[0m\u001b[0mkey\u001b[0m\u001b[0;34m]\u001b[0m\u001b[0;34m,\u001b[0m \u001b[0mmethod\u001b[0m\u001b[0;34m=\u001b[0m\u001b[0mmethod\u001b[0m\u001b[0;34m,\u001b[0m \u001b[0mtolerance\u001b[0m\u001b[0;34m=\u001b[0m\u001b[0mtolerance\u001b[0m\u001b[0;34m)\u001b[0m\u001b[0;34m\u001b[0m\u001b[0;34m\u001b[0m\u001b[0m\n\u001b[1;32m   2661\u001b[0m         \u001b[0;32mif\u001b[0m \u001b[0mindexer\u001b[0m\u001b[0;34m.\u001b[0m\u001b[0mndim\u001b[0m \u001b[0;34m>\u001b[0m \u001b[0;36m1\u001b[0m \u001b[0;32mor\u001b[0m \u001b[0mindexer\u001b[0m\u001b[0;34m.\u001b[0m\u001b[0msize\u001b[0m \u001b[0;34m>\u001b[0m \u001b[0;36m1\u001b[0m\u001b[0;34m:\u001b[0m\u001b[0;34m\u001b[0m\u001b[0;34m\u001b[0m\u001b[0m\n",
      "\u001b[0;32mpandas/_libs/index.pyx\u001b[0m in \u001b[0;36mpandas._libs.index.IndexEngine.get_loc\u001b[0;34m()\u001b[0m\n",
      "\u001b[0;32mpandas/_libs/index.pyx\u001b[0m in \u001b[0;36mpandas._libs.index.IndexEngine.get_loc\u001b[0;34m()\u001b[0m\n",
      "\u001b[0;32mpandas/_libs/hashtable_class_helper.pxi\u001b[0m in \u001b[0;36mpandas._libs.hashtable.PyObjectHashTable.get_item\u001b[0;34m()\u001b[0m\n",
      "\u001b[0;32mpandas/_libs/hashtable_class_helper.pxi\u001b[0m in \u001b[0;36mpandas._libs.hashtable.PyObjectHashTable.get_item\u001b[0;34m()\u001b[0m\n",
      "\u001b[0;31mKeyError\u001b[0m: 0"
     ]
    },
    {
     "data": {
      "image/png": "[encoded data removed]",
      "text/plain": [
       "<Figure size 432x288 with 1 Axes>"
      ]
     },
     "metadata": {
      "needs_background": "light"
     },
     "output_type": "display_data"
    }
   ],
   "source": [
    "person ='若林'\n",
    "term ='term1'\n",
    "df_fav_text =df[(df['PERSON']==person)&(df['term']==term)].sort_values('FAV', ascending=False)[['TW_TEXT', 'FAV']].head()\n",
    "\n",
    "ax = plt.subplot(111, frame_on=False) # no visible frame\n",
    "ax.xaxis.set_visible(False)  # hide the x axis\n",
    "ax.yaxis.set_visible(False)  # hide the y axis\n",
    "\n",
    "ax.table(ax,df_fav_text)  # where df is your data frame\n",
    "\n",
    "plt.savefig('mytable.png')"
   ]
  },
  {
   "cell_type": "code",
   "execution_count": 33,
   "metadata": {},
   "outputs": [],
   "source": [
    "# Creating new DataFrame for counting favorite and retweet average\n",
    "df_tw_count=df.groupby(['PERSON', 'term'])['TW_NO'].count().reset_index()\n",
    "\n",
    "# Deleting \"不明\"(Unknown) and \"双方\"(both) in person column\n",
    "df_tw_count =df_tw_count[df_tw_count['PERSON'].isin(['若林','山里'])]"
   ]
  },
  {
   "cell_type": "code",
   "execution_count": 34,
   "metadata": {},
   "outputs": [
    {
     "data": {
      "text/html": [
       "<div>\n",
       "<style scoped>\n",
       "    .dataframe tbody tr th:only-of-type {\n",
       "        vertical-align: middle;\n",
       "    }\n",
       "\n",
       "    .dataframe tbody tr th {\n",
       "        vertical-align: top;\n",
       "    }\n",
       "\n",
       "    .dataframe thead th {\n",
       "        text-align: right;\n",
       "    }\n",
       "</style>\n",
       "<table border=\"1\" class=\"dataframe\">\n",
       "  <thead>\n",
       "    <tr style=\"text-align: right;\">\n",
       "      <th></th>\n",
       "      <th>PERSON</th>\n",
       "      <th>term</th>\n",
       "      <th>TW_NO</th>\n",
       "    </tr>\n",
       "  </thead>\n",
       "  <tbody>\n",
       "    <tr>\n",
       "      <th>5</th>\n",
       "      <td>山里</td>\n",
       "      <td>term1</td>\n",
       "      <td>339</td>\n",
       "    </tr>\n",
       "    <tr>\n",
       "      <th>6</th>\n",
       "      <td>山里</td>\n",
       "      <td>term2</td>\n",
       "      <td>189</td>\n",
       "    </tr>\n",
       "    <tr>\n",
       "      <th>7</th>\n",
       "      <td>山里</td>\n",
       "      <td>term3</td>\n",
       "      <td>57</td>\n",
       "    </tr>\n",
       "    <tr>\n",
       "      <th>8</th>\n",
       "      <td>若林</td>\n",
       "      <td>term1</td>\n",
       "      <td>418</td>\n",
       "    </tr>\n",
       "    <tr>\n",
       "      <th>9</th>\n",
       "      <td>若林</td>\n",
       "      <td>term2</td>\n",
       "      <td>218</td>\n",
       "    </tr>\n",
       "    <tr>\n",
       "      <th>10</th>\n",
       "      <td>若林</td>\n",
       "      <td>term3</td>\n",
       "      <td>65</td>\n",
       "    </tr>\n",
       "  </tbody>\n",
       "</table>\n",
       "</div>"
      ],
      "text/plain": [
       "   PERSON   term  TW_NO\n",
       "5      山里  term1    339\n",
       "6      山里  term2    189\n",
       "7      山里  term3     57\n",
       "8      若林  term1    418\n",
       "9      若林  term2    218\n",
       "10     若林  term3     65"
      ]
     },
     "execution_count": 34,
     "metadata": {},
     "output_type": "execute_result"
    }
   ],
   "source": [
    "# Check the DataFrame\n",
    "df_tw_count"
   ]
  },
  {
   "cell_type": "code",
   "execution_count": 35,
   "metadata": {},
   "outputs": [
    {
     "data": {
      "image/png": "[encoded data removed]",
      "text/plain": [
       "<Figure size 432x288 with 1 Axes>"
      ]
     },
     "metadata": {
      "needs_background": "light"
     },
     "output_type": "display_data"
    }
   ],
   "source": [
    "# Show the graph\n",
    "sb.barplot(data=df_tw_count, x='term',y='TW_NO',hue='PERSON')\n",
    "plt.ylabel('count')\n",
    "plt.title('各termでのtweet数');"
   ]
  },
  {
   "cell_type": "markdown",
   "metadata": {},
   "source": [
    "#### Conclusion: the tweet number is decreasing per term."
   ]
  },
  {
   "cell_type": "code",
   "execution_count": 29,
   "metadata": {},
   "outputs": [
    {
     "data": {
      "image/png": "[encoded data removed]",
      "text/plain": [
       "<Figure size 1080x360 with 1 Axes>"
      ]
     },
     "metadata": {
      "needs_background": "light"
     },
     "output_type": "display_data"
    }
   ],
   "source": [
    "person='若林'\n",
    "term='term1'\n",
    "df_fav_text =df[(df['PERSON']==person)&(df['term']==term)].sort_values('FAV', ascending=False)[['TW_TEXT', 'FAV']].head()\n",
    "fig, ax = plt.subplots(figsize=(15,5))\n",
    "ax.axis('off')\n",
    "ax.axis('tight')\n",
    "ax.table(cellText=df_fav_text.values,\n",
    "         colLabels=df_fav_text.columns,\n",
    "         loc='center',\n",
    "         bbox=[0,0,1,1])\n",
    "plt.savefig('table.png')\n"
   ]
  },
  {
   "cell_type": "markdown",
   "metadata": {},
   "source": [
    "### Analyzing4. Which word Wakabayashi and Yamasato is using the most frequently?"
   ]
  },
  {
   "cell_type": "code",
   "execution_count": 36,
   "metadata": {},
   "outputs": [],
   "source": [
    "# setting Mecab\n",
    "import MeCab\n",
    "\n",
    "mecab = MeCab.Tagger ('-d /usr/local/lib/mecab/dic/mecab-ipadic-neologd')\n",
    "\n",
    "df_text_mod = df.copy()"
   ]
  },
  {
   "cell_type": "code",
   "execution_count": 37,
   "metadata": {},
   "outputs": [],
   "source": [
    "# Delete 文責xx in twitter text\n",
    "re_person = re.compile('(文責(若林|悪鼠|・若林|若|山里|謎のラッパー|たり林てる恭|逃げ林|デロリアン山里))|(歌責若林)|MASA|山里亮太')\n",
    "for i in range(df_text_mod.shape[0]):\n",
    "    df_text_mod.loc[i,'TW_TEXT'] =re_person.sub(\"\",df_text_mod.loc[i,'TW_TEXT'])"
   ]
  },
  {
   "cell_type": "code",
   "execution_count": 38,
   "metadata": {},
   "outputs": [
    {
     "data": {
      "text/html": [
       "<div>\n",
       "<style scoped>\n",
       "    .dataframe tbody tr th:only-of-type {\n",
       "        vertical-align: middle;\n",
       "    }\n",
       "\n",
       "    .dataframe tbody tr th {\n",
       "        vertical-align: top;\n",
       "    }\n",
       "\n",
       "    .dataframe thead th {\n",
       "        text-align: right;\n",
       "    }\n",
       "</style>\n",
       "<table border=\"1\" class=\"dataframe\">\n",
       "  <thead>\n",
       "    <tr style=\"text-align: right;\">\n",
       "      <th></th>\n",
       "      <th>TW_NO</th>\n",
       "      <th>TW_TIME</th>\n",
       "      <th>TW_TEXT</th>\n",
       "      <th>FAV</th>\n",
       "      <th>RT</th>\n",
       "      <th>PERSON</th>\n",
       "      <th>term</th>\n",
       "    </tr>\n",
       "  </thead>\n",
       "  <tbody>\n",
       "    <tr>\n",
       "      <th>1228</th>\n",
       "      <td>185523226238128128</td>\n",
       "      <td>2012-03-30 09:25:58</td>\n",
       "      <td>まだ文責をいじるのか…</td>\n",
       "      <td>21</td>\n",
       "      <td>6</td>\n",
       "      <td>山里</td>\n",
       "      <td>term1</td>\n",
       "    </tr>\n",
       "    <tr>\n",
       "      <th>1768</th>\n",
       "      <td>122238042244255744</td>\n",
       "      <td>2011-10-07 18:13:15</td>\n",
       "      <td>いじってないですよ！漫才のためのマススパーです。今日は、会議室がむさ苦しくならないようにコンビニでロールケーキとミルクティー買っていきます。文責の件はすいません、いじってます。。</td>\n",
       "      <td>69</td>\n",
       "      <td>22</td>\n",
       "      <td>若林</td>\n",
       "      <td>term1</td>\n",
       "    </tr>\n",
       "    <tr>\n",
       "      <th>1769</th>\n",
       "      <td>122211136211927040</td>\n",
       "      <td>2011-10-07 16:26:20</td>\n",
       "      <td>ほらそこはニュアンスってやつじゃない？的な反論を今夜の打ち合わせでします。あ、あと文責にこだわってんな山里･･･といういじりについてもね。</td>\n",
       "      <td>42</td>\n",
       "      <td>11</td>\n",
       "      <td>山里</td>\n",
       "      <td>term1</td>\n",
       "    </tr>\n",
       "  </tbody>\n",
       "</table>\n",
       "</div>"
      ],
      "text/plain": [
       "                   TW_NO              TW_TIME  \\\n",
       "1228  185523226238128128  2012-03-30 09:25:58   \n",
       "1768  122238042244255744  2011-10-07 18:13:15   \n",
       "1769  122211136211927040  2011-10-07 16:26:20   \n",
       "\n",
       "                                                                                        TW_TEXT  \\\n",
       "1228                                                                                まだ文責をいじるのか…   \n",
       "1768  いじってないですよ！漫才のためのマススパーです。今日は、会議室がむさ苦しくならないようにコンビニでロールケーキとミルクティー買っていきます。文責の件はすいません、いじってます。。   \n",
       "1769                      ほらそこはニュアンスってやつじゃない？的な反論を今夜の打ち合わせでします。あ、あと文責にこだわってんな山里･･･といういじりについてもね。   \n",
       "\n",
       "      FAV  RT PERSON   term  \n",
       "1228   21   6     山里  term1  \n",
       "1768   69  22     若林  term1  \n",
       "1769   42  11     山里  term1  "
      ]
     },
     "execution_count": 38,
     "metadata": {},
     "output_type": "execute_result"
    }
   ],
   "source": [
    "# Check the result\n",
    "df_text_mod[df_text_mod['TW_TEXT'].str.contains('文責')]"
   ]
  },
  {
   "cell_type": "code",
   "execution_count": 40,
   "metadata": {},
   "outputs": [],
   "source": [
    "# Delete unnecesarry phrase\n",
    "re_half = re.compile(r'[!-~]')  # 半角記号,数字,英字\n",
    "re_full = re.compile(r'[︰-＠]')  # 全角記号\n",
    "re_full2 = re.compile(r'[、・’〜：＜＞＿｜「」｛｝【】『』〈〉“”○〔〕…――――◇～･]')  # 全角で取り除けなかったやつ\n",
    "re_comma = re.compile(r'[。]')  # 読点のみ\n",
    "re_url = re.compile(r'https?://[\\w/:%#\\$&\\?\\(\\)~\\.=\\+\\-…]+')\n",
    "re_tag = re.compile(r\"<[^>]*?>\")    #HTMLタグ\n",
    "re_n = re.compile(r'\\n')  # 改行文字\n",
    "\n",
    "for i in range(df_text_mod.shape[0]):\n",
    "    for comp in [re_half, re_full, re_full2, re_comma, re_url, re_tag, re_n]:\n",
    "        df_text_mod.loc[i,'TW_TEXT'] =comp.sub(\"\",df_text_mod.loc[i,'TW_TEXT'])"
   ]
  },
  {
   "cell_type": "code",
   "execution_count": 41,
   "metadata": {},
   "outputs": [
    {
     "data": {
      "text/plain": [
       "0                     さよならいやこんにちは \n",
       "1                 ついていくしかないんでしょ行くよ\n",
       "2    ノートの向こう側に連れて行ってあげるからね楽しみにしててね\n",
       "3                   ご指示の通りノート見てたから\n",
       "4             おいこの返しを見るに今日調子良さそうだな\n",
       "Name: TW_TEXT, dtype: object"
      ]
     },
     "execution_count": 41,
     "metadata": {},
     "output_type": "execute_result"
    }
   ],
   "source": [
    "# Check the result\n",
    "df_text_mod['TW_TEXT'].head()"
   ]
  },
  {
   "cell_type": "code",
   "execution_count": 42,
   "metadata": {},
   "outputs": [],
   "source": [
    "# Create Wakabayashi df and Yamasato df per term\n",
    "df_waka = df_text_mod[df_text_mod['PERSON']=='若林'].reset_index()\n",
    "df_yama = df_text_mod[df_text_mod['PERSON']=='山里'].reset_index()"
   ]
  },
  {
   "cell_type": "code",
   "execution_count": 43,
   "metadata": {},
   "outputs": [
    {
     "data": {
      "text/plain": [
       "(701, 8)"
      ]
     },
     "execution_count": 43,
     "metadata": {},
     "output_type": "execute_result"
    }
   ],
   "source": [
    "df_waka.shape"
   ]
  },
  {
   "cell_type": "code",
   "execution_count": 44,
   "metadata": {},
   "outputs": [],
   "source": [
    "# Create dictionary. Key -> Word, Value -> pos\n",
    "word_dict={}\n",
    "\n",
    "for i in range(df_waka.shape[0]):\n",
    "    text = df_waka.loc[i, 'TW_TEXT']\n",
    "    node = mecab.parseToNode(text)\n",
    "    while node:\n",
    "        #単語を取得\n",
    "        word = node.surface\n",
    "        #品詞を取得\n",
    "        pos = node.feature.split(\",\")[1]\n",
    "        word_dict[word]=pos\n",
    "        #次の単語に進める\n",
    "        node = node.next"
   ]
  },
  {
   "cell_type": "code",
   "execution_count": 45,
   "metadata": {},
   "outputs": [
    {
     "data": {
      "text/plain": [
       "'副詞可能'"
      ]
     },
     "execution_count": 45,
     "metadata": {},
     "output_type": "execute_result"
    }
   ],
   "source": [
    "word_dict['あと']"
   ]
  },
  {
   "cell_type": "code",
   "execution_count": 46,
   "metadata": {},
   "outputs": [],
   "source": [
    "# Create dictionary. Key -> Word, Value -> word_count\n",
    "\n",
    "word_count_waka={}\n",
    "\n",
    "for i in range(df_waka.shape[0]):\n",
    "    text = df_waka.loc[i, 'TW_TEXT']\n",
    "    node = mecab.parseToNode(text)\n",
    "    while node:\n",
    "        # Get word\n",
    "        word = node.surface\n",
    "        # Get pos\n",
    "        pos = node.feature.split(\",\")[1]\n",
    "        if pos in ['固有名詞', '一般', 'サ変接続', '形容動詞語幹']:\n",
    "            word_count_waka[word]= word_count_waka.get(word, 0) + 1\n",
    "        # Move to next word\n",
    "        node = node.next"
   ]
  },
  {
   "cell_type": "code",
   "execution_count": 47,
   "metadata": {},
   "outputs": [],
   "source": [
    "df_waka_word =pd.DataFrame(word_count_waka.items(), columns=['word','count'])\n",
    "\n",
    "df_waka_word = df_waka_word.sort_values('count', ascending=False).head(10)"
   ]
  },
  {
   "cell_type": "code",
   "execution_count": 48,
   "metadata": {},
   "outputs": [
    {
     "data": {
      "text/html": [
       "<div>\n",
       "<style scoped>\n",
       "    .dataframe tbody tr th:only-of-type {\n",
       "        vertical-align: middle;\n",
       "    }\n",
       "\n",
       "    .dataframe tbody tr th {\n",
       "        vertical-align: top;\n",
       "    }\n",
       "\n",
       "    .dataframe thead th {\n",
       "        text-align: right;\n",
       "    }\n",
       "</style>\n",
       "<table border=\"1\" class=\"dataframe\">\n",
       "  <thead>\n",
       "    <tr style=\"text-align: right;\">\n",
       "      <th></th>\n",
       "      <th>word</th>\n",
       "      <th>count</th>\n",
       "    </tr>\n",
       "  </thead>\n",
       "  <tbody>\n",
       "    <tr>\n",
       "      <th>27</th>\n",
       "      <td>山里</td>\n",
       "      <td>204</td>\n",
       "    </tr>\n",
       "    <tr>\n",
       "      <th>19</th>\n",
       "      <td>たりないふたり</td>\n",
       "      <td>110</td>\n",
       "    </tr>\n",
       "    <tr>\n",
       "      <th>6</th>\n",
       "      <td>山ちゃん</td>\n",
       "      <td>74</td>\n",
       "    </tr>\n",
       "    <tr>\n",
       "      <th>138</th>\n",
       "      <td>人</td>\n",
       "      <td>49</td>\n",
       "    </tr>\n",
       "    <tr>\n",
       "      <th>9</th>\n",
       "      <td>漫才</td>\n",
       "      <td>37</td>\n",
       "    </tr>\n",
       "    <tr>\n",
       "      <th>18</th>\n",
       "      <td>もっと</td>\n",
       "      <td>31</td>\n",
       "    </tr>\n",
       "    <tr>\n",
       "      <th>248</th>\n",
       "      <td>収録</td>\n",
       "      <td>24</td>\n",
       "    </tr>\n",
       "    <tr>\n",
       "      <th>63</th>\n",
       "      <td>安島</td>\n",
       "      <td>23</td>\n",
       "    </tr>\n",
       "    <tr>\n",
       "      <th>55</th>\n",
       "      <td>ライブ</td>\n",
       "      <td>21</td>\n",
       "    </tr>\n",
       "    <tr>\n",
       "      <th>133</th>\n",
       "      <td>シャツ</td>\n",
       "      <td>20</td>\n",
       "    </tr>\n",
       "  </tbody>\n",
       "</table>\n",
       "</div>"
      ],
      "text/plain": [
       "        word  count\n",
       "27        山里    204\n",
       "19   たりないふたり    110\n",
       "6       山ちゃん     74\n",
       "138        人     49\n",
       "9         漫才     37\n",
       "18       もっと     31\n",
       "248       収録     24\n",
       "63        安島     23\n",
       "55       ライブ     21\n",
       "133      シャツ     20"
      ]
     },
     "execution_count": 48,
     "metadata": {},
     "output_type": "execute_result"
    }
   ],
   "source": [
    "df_waka_word"
   ]
  },
  {
   "cell_type": "code",
   "execution_count": 49,
   "metadata": {},
   "outputs": [
    {
     "data": {
      "image/png": "[encoded data removed]",
      "text/plain": [
       "<Figure size 576x432 with 1 Axes>"
      ]
     },
     "metadata": {
      "needs_background": "light"
     },
     "output_type": "display_data"
    }
   ],
   "source": [
    "plt.figure(figsize = [8,6])\n",
    "base_color = sb.color_palette()[0]\n",
    "sb.barplot(data = df_waka_word, y = 'word', x = 'count', color=base_color)\n",
    "plt.title('若林正恭がtwitterで多く使用している単語トップ10')\n",
    "plt.xlabel('使用回数')\n",
    "plt.ylabel('使用単語');"
   ]
  },
  {
   "cell_type": "code",
   "execution_count": 50,
   "metadata": {},
   "outputs": [],
   "source": [
    "# Create dictionary. Key -> Word, Value -> word_count\n",
    "word_count_yama={}\n",
    "\n",
    "for i in range(df_yama.shape[0]):\n",
    "    text = df_yama.loc[i, 'TW_TEXT']\n",
    "    node = mecab.parseToNode(text)\n",
    "    while node:\n",
    "        # Get word\n",
    "        word = node.surface\n",
    "        # Get pos\n",
    "        pos = node.feature.split(\",\")[1]\n",
    "        if pos in ['固有名詞', '一般', 'サ変接続', '形容動詞語幹']:\n",
    "            word_count_yama[word]= word_count_yama.get(word, 0) + 1\n",
    "        # Move to next word\n",
    "        node = node.next"
   ]
  },
  {
   "cell_type": "code",
   "execution_count": 51,
   "metadata": {},
   "outputs": [
    {
     "data": {
      "text/html": [
       "<div>\n",
       "<style scoped>\n",
       "    .dataframe tbody tr th:only-of-type {\n",
       "        vertical-align: middle;\n",
       "    }\n",
       "\n",
       "    .dataframe tbody tr th {\n",
       "        vertical-align: top;\n",
       "    }\n",
       "\n",
       "    .dataframe thead th {\n",
       "        text-align: right;\n",
       "    }\n",
       "</style>\n",
       "<table border=\"1\" class=\"dataframe\">\n",
       "  <thead>\n",
       "    <tr style=\"text-align: right;\">\n",
       "      <th></th>\n",
       "      <th>word</th>\n",
       "      <th>count</th>\n",
       "    </tr>\n",
       "  </thead>\n",
       "  <tbody>\n",
       "    <tr>\n",
       "      <th>47</th>\n",
       "      <td>若林くん</td>\n",
       "      <td>226</td>\n",
       "    </tr>\n",
       "    <tr>\n",
       "      <th>29</th>\n",
       "      <td>たりないふたり</td>\n",
       "      <td>64</td>\n",
       "    </tr>\n",
       "    <tr>\n",
       "      <th>90</th>\n",
       "      <td>若林</td>\n",
       "      <td>41</td>\n",
       "    </tr>\n",
       "    <tr>\n",
       "      <th>378</th>\n",
       "      <td>打ち合わせ</td>\n",
       "      <td>25</td>\n",
       "    </tr>\n",
       "    <tr>\n",
       "      <th>522</th>\n",
       "      <td>皆様</td>\n",
       "      <td>23</td>\n",
       "    </tr>\n",
       "    <tr>\n",
       "      <th>109</th>\n",
       "      <td>人</td>\n",
       "      <td>21</td>\n",
       "    </tr>\n",
       "    <tr>\n",
       "      <th>241</th>\n",
       "      <td>自分</td>\n",
       "      <td>20</td>\n",
       "    </tr>\n",
       "    <tr>\n",
       "      <th>73</th>\n",
       "      <td>山里</td>\n",
       "      <td>19</td>\n",
       "    </tr>\n",
       "    <tr>\n",
       "      <th>105</th>\n",
       "      <td>顔</td>\n",
       "      <td>17</td>\n",
       "    </tr>\n",
       "    <tr>\n",
       "      <th>116</th>\n",
       "      <td>目</td>\n",
       "      <td>17</td>\n",
       "    </tr>\n",
       "  </tbody>\n",
       "</table>\n",
       "</div>"
      ],
      "text/plain": [
       "        word  count\n",
       "47      若林くん    226\n",
       "29   たりないふたり     64\n",
       "90        若林     41\n",
       "378    打ち合わせ     25\n",
       "522       皆様     23\n",
       "109        人     21\n",
       "241       自分     20\n",
       "73        山里     19\n",
       "105        顔     17\n",
       "116        目     17"
      ]
     },
     "execution_count": 51,
     "metadata": {},
     "output_type": "execute_result"
    }
   ],
   "source": [
    "df_yama_word =pd.DataFrame(word_count_yama.items(), columns=['word','count'])\n",
    "\n",
    "df_yama_word = df_yama_word.sort_values('count', ascending=False).head(10)\n",
    "df_yama_word"
   ]
  },
  {
   "cell_type": "code",
   "execution_count": 52,
   "metadata": {},
   "outputs": [
    {
     "data": {
      "image/png": "[encoded data removed]",
      "text/plain": [
       "<Figure size 576x432 with 1 Axes>"
      ]
     },
     "metadata": {
      "needs_background": "light"
     },
     "output_type": "display_data"
    }
   ],
   "source": [
    "plt.figure(figsize = [8,6])\n",
    "base_color = sb.color_palette()[0]\n",
    "sb.barplot(data = df_yama_word, y = 'word', x = 'count', color=base_color)\n",
    "plt.title('山里亮太がtwitterで多く使用している単語トップ10')\n",
    "plt.xlabel('使用回数')\n",
    "plt.ylabel('使用単語');"
   ]
  },
  {
   "cell_type": "markdown",
   "metadata": {},
   "source": [
    "### Analyzing5. Word count per tweet"
   ]
  },
  {
   "cell_type": "code",
   "execution_count": 53,
   "metadata": {},
   "outputs": [],
   "source": [
    "df_wc= df_text_mod[df_text_mod['PERSON'].isin(['若林','山里'])].sort_values('term')"
   ]
  },
  {
   "cell_type": "code",
   "execution_count": 54,
   "metadata": {},
   "outputs": [],
   "source": [
    "# Create word_count column\n",
    "df_wc['word_count']= df_wc['TW_TEXT'].apply(lambda x: len(x))"
   ]
  },
  {
   "cell_type": "code",
   "execution_count": 55,
   "metadata": {},
   "outputs": [
    {
     "data": {
      "image/png": "[encoded data removed]",
      "text/plain": [
       "<Figure size 576x432 with 1 Axes>"
      ]
     },
     "metadata": {
      "needs_background": "light"
     },
     "output_type": "display_data"
    }
   ],
   "source": [
    "# Create graph\n",
    "plt.figure(figsize = [8,6])\n",
    "ax = sb.pointplot(data = df_wc, x = 'term', y = 'word_count',\n",
    "                  hue = 'PERSON', dodge = 0.1, linestyles = \"--\")\n",
    "plt.title('1tweetにおける文字数(記号は除く)');"
   ]
  },
  {
   "cell_type": "markdown",
   "metadata": {},
   "source": [
    "#### Conclusion: The word per tweet of Wakabayashi is decreasing per term. \n",
    "#### Conclusion: The word per tweet of Yamasato is stable. "
   ]
  }
 ],
 "metadata": {
  "kernelspec": {
   "display_name": "Python 3",
   "language": "python",
   "name": "python3"
  },
  "language_info": {
   "codemirror_mode": {
    "name": "ipython",
    "version": 3
   },
   "file_extension": ".py",
   "mimetype": "text/x-python",
   "name": "python",
   "nbconvert_exporter": "python",
   "pygments_lexer": "ipython3",
   "version": "3.7.3"
  }
 },
 "nbformat": 4,
 "nbformat_minor": 2
}
